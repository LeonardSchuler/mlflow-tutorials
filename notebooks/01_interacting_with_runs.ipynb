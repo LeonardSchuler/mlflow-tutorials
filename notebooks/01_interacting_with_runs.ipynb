{
 "cells": [
  {
   "cell_type": "markdown",
   "id": "aa819096-52a7-4293-920c-4bef037d43cb",
   "metadata": {
    "tags": []
   },
   "source": [
    "# Introduction"
   ]
  },
  {
   "cell_type": "markdown",
   "id": "25aceae8-a659-4f88-9bf2-f808dc89a638",
   "metadata": {},
   "source": [
    "This notebook shows basic usage of MLFlow run tracking."
   ]
  },
  {
   "cell_type": "code",
   "execution_count": 1,
   "id": "d09ca8a9-1220-4f0c-8ca6-a3b0b071c14d",
   "metadata": {},
   "outputs": [],
   "source": [
    "import mlflow\n",
    "import sklearn\n",
    "import sklearn.datasets\n",
    "import sklearn.linear_model\n",
    "import sklearn.metrics\n",
    "import logging\n",
    "\n",
    "\n",
    "logging.basicConfig(level=logging.INFO)\n",
    "logger = logging.getLogger(\"Linear Learner\")"
   ]
  },
  {
   "cell_type": "markdown",
   "id": "d73a45c9-bacb-464a-8af6-d1c6e7037b69",
   "metadata": {},
   "source": [
    "# Initialize MLFlow"
   ]
  },
  {
   "cell_type": "markdown",
   "id": "c9cf7ccf-3879-4738-831e-c620767e8f76",
   "metadata": {},
   "source": [
    "Make sure to run the following command in a terminal before you proceed."
   ]
  },
  {
   "cell_type": "raw",
   "id": "b7b98192-a2dd-49bb-9ed0-385bf74918f3",
   "metadata": {},
   "source": [
    "$ mlflow server"
   ]
  },
  {
   "cell_type": "markdown",
   "id": "d9f1ed58-a227-4e44-8e36-498d31c305c7",
   "metadata": {},
   "source": [
    "The following cell checks whether MLFlow is running correctly."
   ]
  },
  {
   "cell_type": "code",
   "execution_count": 2,
   "id": "7c00a79b-6984-4114-9593-572a1514a21c",
   "metadata": {},
   "outputs": [],
   "source": [
    "import urllib.request\n",
    "with urllib.request.urlopen(\"http://127.0.0.1:5000\") as req:\n",
    "    assert req.status == 200"
   ]
  },
  {
   "cell_type": "markdown",
   "id": "75478236-37a2-4785-8b7e-afa5b7b80933",
   "metadata": {},
   "source": [
    "The next command tells MLFlow where the Tracking Server is."
   ]
  },
  {
   "cell_type": "code",
   "execution_count": 3,
   "id": "8c1877e4-22ca-45ef-a14a-498b701e9eac",
   "metadata": {},
   "outputs": [],
   "source": [
    "mlflow.set_tracking_uri(\"http://127.0.0.1:5000\")"
   ]
  },
  {
   "cell_type": "markdown",
   "id": "2d2cf4bb-ea48-4301-a49a-41e3a6e8a95e",
   "metadata": {
    "tags": []
   },
   "source": [
    "# Train Model"
   ]
  },
  {
   "cell_type": "code",
   "execution_count": 4,
   "id": "8fc4e583-4dd6-4ae4-b17f-f8d83e9494cb",
   "metadata": {},
   "outputs": [],
   "source": [
    "X, y = sklearn.datasets.load_diabetes(return_X_y=True, as_frame=True)"
   ]
  },
  {
   "cell_type": "code",
   "execution_count": 5,
   "id": "d553abb0-cc40-4600-b201-8fb8132a5bd6",
   "metadata": {},
   "outputs": [
    {
     "name": "stderr",
     "output_type": "stream",
     "text": [
      "INFO:Linear Learner:r2=0.5177494254132934\n"
     ]
    }
   ],
   "source": [
    "model = sklearn.linear_model.LinearRegression()\n",
    "model.fit(X, y)\n",
    "r2 = model.score(X, y)\n",
    "logger.info(f\"{r2=}\")"
   ]
  },
  {
   "cell_type": "markdown",
   "id": "1ce59207-e067-4d22-af53-07ab840932b2",
   "metadata": {},
   "source": [
    "# Store Model in MLFlow"
   ]
  },
  {
   "cell_type": "markdown",
   "id": "2abd53eb-16fc-4da2-9168-5959337abe0d",
   "metadata": {},
   "source": [
    "## Option 1: Context manager"
   ]
  },
  {
   "cell_type": "code",
   "execution_count": 6,
   "id": "0cbc7182-44f4-4504-9845-32ad20c117d6",
   "metadata": {},
   "outputs": [
    {
     "name": "stderr",
     "output_type": "stream",
     "text": [
      "INFO:Linear Learner:option1_run_id='1cd1ee50e4ef44859e4378fdd7ead694'\n"
     ]
    }
   ],
   "source": [
    "MODEL_NAME = \"model\"\n",
    "with mlflow.start_run() as run:\n",
    "    mlflow.sklearn.log_model(model, MODEL_NAME)\n",
    "    mlflow.log_param(\"loss\", \"l2\")\n",
    "    mlflow.log_metric(\"r2\", r2)\n",
    "    option1_run_id = run.info.run_id\n",
    "    logger.info(f\"{option1_run_id=}\")"
   ]
  },
  {
   "cell_type": "markdown",
   "id": "db971f33-b203-4be2-8733-9c6bab981477",
   "metadata": {},
   "source": [
    "## Option 2: Without context manager"
   ]
  },
  {
   "cell_type": "code",
   "execution_count": 7,
   "id": "8c2d9195-26f0-4d83-9738-e4eb299ba501",
   "metadata": {},
   "outputs": [],
   "source": [
    "run = mlflow.start_run()"
   ]
  },
  {
   "cell_type": "code",
   "execution_count": 8,
   "id": "4b4cbd5a-22b2-491c-a621-6143233981b6",
   "metadata": {},
   "outputs": [
    {
     "name": "stderr",
     "output_type": "stream",
     "text": [
      "INFO:Linear Learner:option2_run_id='beca1fc597ee4af8b3cf861a01d2b1f3'\n"
     ]
    }
   ],
   "source": [
    "MODEL_NAME = \"model\"\n",
    "mlflow.sklearn.log_model(model, MODEL_NAME)\n",
    "mlflow.log_param(\"loss\", \"l2\")\n",
    "mlflow.log_metric(\"r2\", r2)\n",
    "option2_run_id = run.info.run_id\n",
    "logger.info(f\"{option2_run_id=}\")"
   ]
  },
  {
   "cell_type": "code",
   "execution_count": 9,
   "id": "c4d4cdda-54be-4edb-bf5b-86064be5f95b",
   "metadata": {},
   "outputs": [],
   "source": [
    "mlflow.end_run()"
   ]
  },
  {
   "cell_type": "markdown",
   "id": "dba1fe64-eee8-480f-a400-0208bec793ce",
   "metadata": {},
   "source": [
    "# Reactivate an old run"
   ]
  },
  {
   "cell_type": "markdown",
   "id": "a05c8e23-9535-4d81-808a-a27962d3bc21",
   "metadata": {},
   "source": [
    "The following cells add the mean squared error metric to the run in Option 1."
   ]
  },
  {
   "cell_type": "code",
   "execution_count": 10,
   "id": "f4a375d6-f1b9-4d14-89b1-553fce8510a2",
   "metadata": {},
   "outputs": [],
   "source": [
    "run = mlflow.start_run(run_id=option1_run_id)"
   ]
  },
  {
   "cell_type": "code",
   "execution_count": 11,
   "id": "b2a8b126-6267-4d09-9f27-22d08583fd1a",
   "metadata": {},
   "outputs": [
    {
     "name": "stderr",
     "output_type": "stream",
     "text": [
      "INFO:Linear Learner:run.info.run_id='1cd1ee50e4ef44859e4378fdd7ead694'\n"
     ]
    }
   ],
   "source": [
    "logger.info(f\"{run.info.run_id=}\")"
   ]
  },
  {
   "cell_type": "code",
   "execution_count": 12,
   "id": "3ad603e6-48b7-4345-9278-162655480e09",
   "metadata": {},
   "outputs": [
    {
     "name": "stderr",
     "output_type": "stream",
     "text": [
      "INFO:Linear Learner:mse=2859.6903987680657\n"
     ]
    }
   ],
   "source": [
    "mse = sklearn.metrics.mean_squared_error(y, model.predict(X))\n",
    "logger.info(f\"{mse=}\")"
   ]
  },
  {
   "cell_type": "code",
   "execution_count": 13,
   "id": "c6b0dd14-e411-4afe-bb74-c2b6507bca0b",
   "metadata": {},
   "outputs": [],
   "source": [
    "mlflow.log_metric(\"mse\", mse)"
   ]
  },
  {
   "cell_type": "code",
   "execution_count": 14,
   "id": "07f06767-2395-4acf-baa5-4dd9fe952045",
   "metadata": {},
   "outputs": [],
   "source": [
    "mlflow.end_run()"
   ]
  }
 ],
 "metadata": {
  "kernelspec": {
   "display_name": "Python 3 (ipykernel)",
   "language": "python",
   "name": "python3"
  },
  "language_info": {
   "codemirror_mode": {
    "name": "ipython",
    "version": 3
   },
   "file_extension": ".py",
   "mimetype": "text/x-python",
   "name": "python",
   "nbconvert_exporter": "python",
   "pygments_lexer": "ipython3",
   "version": "3.9.6"
  }
 },
 "nbformat": 4,
 "nbformat_minor": 5
}
